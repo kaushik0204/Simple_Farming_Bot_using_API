{
  "nbformat": 4,
  "nbformat_minor": 0,
  "metadata": {
    "colab": {
      "provenance": []
    },
    "kernelspec": {
      "name": "python3",
      "display_name": "Python 3"
    },
    "language_info": {
      "name": "python"
    }
  },
  "cells": [
    {
      "cell_type": "code",
      "execution_count": 22,
      "metadata": {
        "colab": {
          "base_uri": "https://localhost:8080/",
          "height": 1000
        },
        "id": "wXNzdptMYnua",
        "outputId": "244ad25f-baab-4767-ea2a-a96a08bc944a"
      },
      "outputs": [
        {
          "output_type": "stream",
          "name": "stdout",
          "text": [
            "🌾 Farming Assistant\n",
            "\n",
            "Bot: Hello, how can I help you?  \n",
            "Please ask about farming-related topics, such as:\n",
            "- 🐛 Pest/Disease detection  \n",
            "- 🌱 Crop recommendations  \n",
            "- 🌾 Planting schedules  \n",
            "- ☁️ Soil and weather advice  \n",
            "- 🧪 Fertilization and irrigation tips  \n",
            "\n",
            "NOTE:\n",
            "To give you the most accurate and personalized advice, it's always helpful to know your specific location, climate, and soil type.\n",
            "\n",
            "\n",
            "You: how to plant coconut \n",
            "\n"
          ]
        },
        {
          "output_type": "display_data",
          "data": {
            "text/plain": [
              "<IPython.core.display.Markdown object>"
            ],
            "text/markdown": "**Bot:** Hello there! Planting a coconut tree can be a very rewarding experience, and with the right steps, you'll be well on your way to growing your own coconuts. I'd be happy to guide you through the process!\n\nCoconuts thrive in tropical and subtropical climates, so ensure your location has plenty of warmth and sunshine.\n\nHere's a step-by-step guide on how to plant a coconut:\n\n**1. Choose the Right Coconut (The Seed Nut):**\n*   **Best Option:** Look for a mature, brown coconut that still has its husk on. Ideally, it should already show signs of sprouting (a small shoot emerging from one of the \"eyes\"). This is often called a \"sprouted nut\" or \"germinated nut.\"\n*   **If not sprouted:** You can sprout it yourself. Place the whole coconut (with husk) in a warm, humid spot, partially submerged in water or moist soil/sand. It can take several weeks to a few months to sprout.\n\n**2. Prepare Your Planting Site:**\n*   **Sunlight:** Coconut trees need full sun, at least 6-8 hours per day.\n*   **Soil:** They prefer sandy, well-drained soil. If your soil is heavy clay, you might need to amend it with sand and organic matter to improve drainage.\n*   **Space:** Coconut trees grow very large, both tall and wide. Choose a spot where it will have plenty of room to grow without obstructing buildings or power lines. A good rule of thumb is at least 25-30 feet (7.5-9 meters) away from other structures or trees.\n\n**3. Dig the Planting Hole:**\n*   Dig a hole that is about 1 foot (30 cm) deep and 2 feet (60 cm) wide. The goal is to create enough space for the nut and some initial root development.\n\n**4. Plant the Sprouted Coconut:**\n*   **Orientation:** Place the sprouted coconut in the hole with the sprout pointing upwards. About two-thirds of the nut should be buried, leaving the top third (where the sprout emerges) exposed above the soil line.\n*   **Backfill:** Gently backfill the hole with soil, making sure not to cover the sprout or the very top of the nut. You can create a small mound around the base to help with drainage.\n\n**5. Initial Watering:**\n*   Water the newly planted coconut thoroughly immediately after planting. This helps settle the soil around the nut.\n\n**6. Ongoing Care for Your Young Coconut Tree:**\n*   **Watering:** Young coconut trees need consistent moisture. Water regularly, especially during dry periods, to keep the soil consistently moist but not waterlogged. As the tree matures, its water needs will decrease, but it will still benefit from regular watering.\n*   **Fertilization:** Young coconut trees benefit from a balanced fertilizer, especially one rich in potassium and magnesium, which are crucial for coconut development. Apply a slow-release granular fertilizer or a liquid feed specifically formulated for palms, following the product's instructions. I can help you with a personalized fertilization schedule if you provide more details about your soil!\n*   **Weeding:** Keep the area around the young tree free of weeds, as they compete for nutrients and water.\n*   **Protection:** Protect young trees from strong winds and pests. You might need to stake them initially if your area is windy.\n*   **Pest and Disease Monitoring:** Keep an eye out for common coconut pests like rhinoceros beetles or red palm weevils, and diseases like lethal yellowing. If you notice any unusual signs, just send me a picture, and I can help identify the issue and recommend treatments!\n\n**What to Expect:**\n*   It can take 5-8 years for a coconut tree to start producing fruit, and sometimes even longer depending on the variety and growing conditions.\n*   Once mature, a healthy coconut tree can produce 50-200 coconuts per year!\n\nLet me know if you have any specific questions about your climate, soil, or the type of coconut you're planning to plant. I'm here to help you every step of the way!"
          },
          "metadata": {}
        },
        {
          "output_type": "stream",
          "name": "stdout",
          "text": [
            "\n"
          ]
        },
        {
          "output_type": "error",
          "ename": "KeyboardInterrupt",
          "evalue": "Interrupted by user",
          "traceback": [
            "\u001b[0;31m---------------------------------------------------------------------------\u001b[0m",
            "\u001b[0;31mKeyboardInterrupt\u001b[0m                         Traceback (most recent call last)",
            "\u001b[0;32m/tmp/ipython-input-22-2101497305.py\u001b[0m in \u001b[0;36m<cell line: 0>\u001b[0;34m()\u001b[0m\n\u001b[1;32m    102\u001b[0m \u001b[0;31m# Chat loop\u001b[0m\u001b[0;34m\u001b[0m\u001b[0;34m\u001b[0m\u001b[0m\n\u001b[1;32m    103\u001b[0m \u001b[0;32mwhile\u001b[0m \u001b[0;32mTrue\u001b[0m\u001b[0;34m:\u001b[0m\u001b[0;34m\u001b[0m\u001b[0;34m\u001b[0m\u001b[0m\n\u001b[0;32m--> 104\u001b[0;31m     \u001b[0muser_input\u001b[0m \u001b[0;34m=\u001b[0m \u001b[0minput\u001b[0m\u001b[0;34m(\u001b[0m\u001b[0;34m\"You: \"\u001b[0m\u001b[0;34m)\u001b[0m\u001b[0;34m\u001b[0m\u001b[0;34m\u001b[0m\u001b[0m\n\u001b[0m\u001b[1;32m    105\u001b[0m     \u001b[0mprint\u001b[0m\u001b[0;34m(\u001b[0m\u001b[0;34m)\u001b[0m\u001b[0;34m\u001b[0m\u001b[0;34m\u001b[0m\u001b[0m\n\u001b[1;32m    106\u001b[0m \u001b[0;34m\u001b[0m\u001b[0m\n",
            "\u001b[0;32m/usr/local/lib/python3.11/dist-packages/ipykernel/kernelbase.py\u001b[0m in \u001b[0;36mraw_input\u001b[0;34m(self, prompt)\u001b[0m\n\u001b[1;32m   1175\u001b[0m                 \u001b[0;34m\"raw_input was called, but this frontend does not support input requests.\"\u001b[0m\u001b[0;34m\u001b[0m\u001b[0;34m\u001b[0m\u001b[0m\n\u001b[1;32m   1176\u001b[0m             )\n\u001b[0;32m-> 1177\u001b[0;31m         return self._input_request(\n\u001b[0m\u001b[1;32m   1178\u001b[0m             \u001b[0mstr\u001b[0m\u001b[0;34m(\u001b[0m\u001b[0mprompt\u001b[0m\u001b[0;34m)\u001b[0m\u001b[0;34m,\u001b[0m\u001b[0;34m\u001b[0m\u001b[0;34m\u001b[0m\u001b[0m\n\u001b[1;32m   1179\u001b[0m             \u001b[0mself\u001b[0m\u001b[0;34m.\u001b[0m\u001b[0m_parent_ident\u001b[0m\u001b[0;34m[\u001b[0m\u001b[0;34m\"shell\"\u001b[0m\u001b[0;34m]\u001b[0m\u001b[0;34m,\u001b[0m\u001b[0;34m\u001b[0m\u001b[0;34m\u001b[0m\u001b[0m\n",
            "\u001b[0;32m/usr/local/lib/python3.11/dist-packages/ipykernel/kernelbase.py\u001b[0m in \u001b[0;36m_input_request\u001b[0;34m(self, prompt, ident, parent, password)\u001b[0m\n\u001b[1;32m   1217\u001b[0m             \u001b[0;32mexcept\u001b[0m \u001b[0mKeyboardInterrupt\u001b[0m\u001b[0;34m:\u001b[0m\u001b[0;34m\u001b[0m\u001b[0;34m\u001b[0m\u001b[0m\n\u001b[1;32m   1218\u001b[0m                 \u001b[0;31m# re-raise KeyboardInterrupt, to truncate traceback\u001b[0m\u001b[0;34m\u001b[0m\u001b[0;34m\u001b[0m\u001b[0m\n\u001b[0;32m-> 1219\u001b[0;31m                 \u001b[0;32mraise\u001b[0m \u001b[0mKeyboardInterrupt\u001b[0m\u001b[0;34m(\u001b[0m\u001b[0;34m\"Interrupted by user\"\u001b[0m\u001b[0;34m)\u001b[0m \u001b[0;32mfrom\u001b[0m \u001b[0;32mNone\u001b[0m\u001b[0;34m\u001b[0m\u001b[0;34m\u001b[0m\u001b[0m\n\u001b[0m\u001b[1;32m   1220\u001b[0m             \u001b[0;32mexcept\u001b[0m \u001b[0mException\u001b[0m\u001b[0;34m:\u001b[0m\u001b[0;34m\u001b[0m\u001b[0;34m\u001b[0m\u001b[0m\n\u001b[1;32m   1221\u001b[0m                 \u001b[0mself\u001b[0m\u001b[0;34m.\u001b[0m\u001b[0mlog\u001b[0m\u001b[0;34m.\u001b[0m\u001b[0mwarning\u001b[0m\u001b[0;34m(\u001b[0m\u001b[0;34m\"Invalid Message:\"\u001b[0m\u001b[0;34m,\u001b[0m \u001b[0mexc_info\u001b[0m\u001b[0;34m=\u001b[0m\u001b[0;32mTrue\u001b[0m\u001b[0;34m)\u001b[0m\u001b[0;34m\u001b[0m\u001b[0;34m\u001b[0m\u001b[0m\n",
            "\u001b[0;31mKeyboardInterrupt\u001b[0m: Interrupted by user"
          ]
        }
      ],
      "source": [
        "import os\n",
        "import google.generativeai as genai\n",
        "from IPython.display import Markdown, display\n",
        "\n",
        "\n",
        "# Configure API key for the model\n",
        "genai.configure(api_key=\"\")\n",
        "\n",
        "# Create the model with configuration\n",
        "generation_config = {\n",
        "  \"temperature\": 0,\n",
        "  \"top_p\": 0.95,\n",
        "  \"top_k\": 40,\n",
        "  \"max_output_tokens\": 8192,\n",
        "  \"response_mime_type\": \"text/plain\",\n",
        "}\n",
        "\n",
        "model = genai.GenerativeModel(\n",
        "  model_name=\"gemini-2.5-flash\",\n",
        "  generation_config=generation_config,\n",
        "system_instruction = \"\"\"\n",
        "You are an AI-powered agricultural assistant chatbot designed to support farmers with real-time, data-driven guidance.\n",
        "\n",
        "Your role is to:\n",
        "- Provide personalized planting schedules based on crop type, climate, soil, and location.\n",
        "- Monitor environmental conditions and send real-time alerts for pests, diseases, or optimal planting windows.\n",
        "- Recommend organic and chemical treatments, including safe application techniques.\n",
        "- Analyze soil and weather data (manual input or via sensors) to advise on planting decisions.\n",
        "- Help farmers track crop health through periodic image-based check-ins and offer watering, fertilization, and general care advice.\n",
        "- Log data on detections and treatments to provide insights and suggest improvements throughout the growing season.\n",
        "- Share educational content, best practices, and sustainable farming tips.\n",
        "- Deliver crop forecasts using predictive analytics to support yield planning and market readiness.\n",
        "\n",
        "Act as a friendly, knowledgeable, and proactive assistant who responds clearly and practically to farming-related questions. Your goal is to provide accessible, personalized, and sustainable solutions to help farmers manage their crops more effectively.\n",
        "\"\"\"\n",
        ")\n",
        "\n",
        "\n",
        "# Start the chat session\n",
        "chat_session = model.start_chat(\n",
        "    history=[]\n",
        ")\n",
        "\n",
        "print(\"\"\"🌾 Farming Assistant\n",
        "\n",
        "Bot: Hello, how can I help you?\n",
        "Please ask about farming-related topics, such as:\n",
        "- 🐛 Pest/Disease detection\n",
        "- 🌱 Crop recommendations\n",
        "- 🌾 Planting schedules\n",
        "- ☁️ Soil and weather advice\n",
        "- 🧪 Fertilization and irrigation tips\n",
        "\n",
        "NOTE:\n",
        "To give you the most accurate and personalized advice, it's always helpful to know your specific location, climate, and soil type.\n",
        "\"\"\")\n",
        "print()\n",
        "\n",
        "# Define a function to detect if the input is farming-related\n",
        "def is_farming_related(user_input):\n",
        "    farming_keywords = [\n",
        "    \"crop\", \"plant\", \"pest\", \"disease\", \"soil\", \"weather\", \"irrigation\", \"fertilizer\", \"hello\", \"location\", \"current conditions\", \"harvest\", \"planting\",\n",
        "    \"agriculture\", \"farm\", \"yield\", \"sustainable farming\", \"sowing\", \"disease control\", \"hi\", \"pesticides\"\n",
        "    \"horticulture\", \"agriculture\", \"farming\", \"crop production\", \"livestock\", \"horticulture\", \"agronomy\",\n",
        "    \"sustainable agriculture\", \"organic farming\", \"precision agriculture\", \"hydroponics\", \"aquaculture\",\n",
        "    \"forestry\", \"rural development\", \"food security\", \"climate-smart agriculture\", \"botany\",\n",
        "    \"floriculture\", \"arboriculture\", \"plant physiology\", \"plant pathology\", \"plant genetics\",\n",
        "    \"plant breeding\", \"seed production\", \"nursery\", \"greenhouse\", \"hydroponics\", \"vertical farming\",\n",
        "    \"plant nutrition\", \"soil science\", \"plant protection\", \"pest control\", \"weed control\",\n",
        "    \"organic fertilizers\", \"biopesticides\", \"plant growth regulators\", \"gardening\", \"landscaping\",\n",
        "    \"vegetable gardening\", \"flower gardening\", \"herb gardening\", \"container gardening\", \"organic gardening\",\n",
        "    \"permaculture\", \"composting\", \"mulching\", \"pruning\", \"weeding\", \"watering\", \"plant propagation\",\n",
        "    \"garden pests\", \"garden diseases\", \"garden tools\", \"garden supplies\", \"biodiversity\", \"ecosystem services\",\n",
        "    \"climate change\", \"water resources\", \"soil health\", \"food safety\", \"food processing\", \"agricultural economics\",\n",
        "    \"agricultural policy\", \"rural sociology\", \"seedlings\", \"transplanting\", \"manure\", \"livestock feed\",\n",
        "    \"pasture\", \"rangeland\", \"livestock health\", \"veterinary science\", \"dairy farming\", \"poultry farming\",\n",
        "    \"apiculture\", \"sericulture\", \"agroforestry\", \"conservation agriculture\", \"organic certification\",\n",
        "    \"fair trade\", \"local food\", \"sustainable food systems\", \"agrochemicals\", \"herbicide\", \"fungicide\",\n",
        "    \"insecticide\", \"nematicide\", \"biocontrol\", \"IPM\", \"integrated pest management\", \"soil fertility\",\n",
        "    \"soil structure\", \"soil pH\", \"soil salinity\", \"soil erosion\", \"waterlogging\", \"drought\",\n",
        "    \"flood\", \"nutrient deficiency\", \"micronutrients\", \"macronutrients\", \"plant hormones\",\n",
        "    \"photosynthesis\", \"transpiration\", \"respiration\", \"germination\", \"flowering\",\n",
        "    \"fruiting\", \"seed dispersal\", \"pollination\", \"pollinator\", \"beekeeping\", \"agroforestry\",\n",
        "    \"silviculture\", \"agro-ecology\", \"climate-smart agriculture\", \"sustainable intensification\",\n",
        "    \"agro-meteorology\", \"agricultural engineering\", \"agricultural machinery\", \"farm mechanization\",\n",
        "    \"agricultural extension\", \"agricultural education\", \"agricultural research\", \"agricultural innovation\",\n",
        "    \"agricultural technology\", \"digital agriculture\", \"smart farming\", \"AI in agriculture\",\n",
        "    \"IoT in agriculture\", \"remote sensing\", \"GIS\", \"GPS\", \"drone technology\", \"precision agriculture\",\n",
        "    \"variable rate technology\", \"site-specific management\", \"crop modeling\", \"yield forecasting\",\n",
        "    \"risk management\", \"insurance\", \"subsidy\", \"credit\", \"market access\", \"value chain\",\n",
        "    \"food processing industry\", \"food packaging\", \"food labeling\", \"food safety standards\",\n",
        "    \"food waste reduction\", \"food security\", \"nutrition security\", \"food sovereignty\",\n",
        "    \"rural livelihoods\", \"poverty reduction\", \"gender equality\", \"social inclusion\",\n",
        "    \"community development\", \"environmental impact assessment\", \"life cycle assessment\",\n",
        "    \"carbon footprint\", \"climate mitigation\", \"climate adaptation\", \"sustainable development goals\",\n",
        "    \"UN Sustainable Development Goals\", \"SDG 2\", \"SDG 12\", \"SDG 15\" , \"cultivate \"\n",
        "]\n",
        "\n",
        "    # Check if any keyword appears in the input (case-insensitive)\n",
        "    return any(keyword.lower() in user_input.lower() for keyword in farming_keywords)\n",
        "\n",
        "# Chat loop\n",
        "while True:\n",
        "    user_input = input(\"You: \")\n",
        "    print()\n",
        "\n",
        "    # Check if the user's input is farming-related\n",
        "    if not is_farming_related(user_input):\n",
        "        print(\"\"\"Bot: I can only assist with farming-related topics. Please ask about farming or crop management.\"\"\")\n",
        "        continue\n",
        "\n",
        "    # Send message to the model and get response\n",
        "    response = chat_session.send_message(user_input)\n",
        "\n",
        "    model_response = response.text\n",
        "\n",
        "    display(Markdown(f'**Bot:** {model_response}'))\n",
        "    print()\n",
        "\n",
        "    # Update the chat history\n",
        "    chat_session.history.append({\"role\": \"user\", \"parts\": [user_input]})\n",
        "    chat_session.history.append({\"role\": \"model\", \"parts\": [model_response]})"
      ]
    }
  ]
}